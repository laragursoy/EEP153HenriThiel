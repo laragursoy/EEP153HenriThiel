{
 "cells": [
  {
   "cell_type": "markdown",
   "metadata": {},
   "source": [
    "## Preface\n",
    "\n"
   ]
  },
  {
   "cell_type": "markdown",
   "metadata": {},
   "source": [
    "If need be&#x2026;\n",
    "\n"
   ]
  },
  {
   "cell_type": "code",
   "execution_count": 128,
   "metadata": {},
   "outputs": [],
   "source": [
    "#!pip install -r requirements.txt"
   ]
  },
  {
   "cell_type": "markdown",
   "metadata": {},
   "source": [
    "## Introduction\n",
    "\n",
    "Today we're looking at three main crops and how lower yields of those crops due to climate change may affect Guatemalan diets. We're simulating under the idea that maize, wheat (which is used to make bread), and beans are crops whose yields are lower due to climate change, which changes the household expenditures on these products as prices would increase due to a drop in supply.\n",
    "\n",
    "Under 4 different simulations, we will compare how many of the households fail to hit protein and carbohydrate recommendations based on the Ugandan RDI, which we used because they have somewhat similar diets to Guatemalans in terms of crops (beans, wheat, corn/maize). One will be the control, with no change to expenditures in this category. The second will have a 20% expenditure reduction in maize, bread, and beans. The third will have a 50% reduction in those products, and the final will have an 80% reduction in those products."
   ]
  },
  {
   "cell_type": "markdown",
   "metadata": {},
   "source": [
    "## Step 1: Acquire DataFrames\n",
    "\n"
   ]
  },
  {
   "cell_type": "markdown",
   "metadata": {},
   "source": [
    "Here are addresses of google sheets for different dataframes for the\n",
    "case of Guatemala:\n",
    "\n"
   ]
  },
  {
   "cell_type": "code",
   "execution_count": 129,
   "metadata": {},
   "outputs": [],
   "source": [
    "#Guatemala Dataframes\n",
    "InputFiles = {'Expenditures':('1x6A8fRQXzrdhzOV2UZTxzqhFfA-pt7T_sTmMNcQu_VQ','Food Expenditures'),\n",
    "              'Prices':('1x6A8fRQXzrdhzOV2UZTxzqhFfA-pt7T_sTmMNcQu_VQ','Transposed'),\n",
    "              'HH Characteristics':('1x6A8fRQXzrdhzOV2UZTxzqhFfA-pt7T_sTmMNcQu_VQ','Household Characteristics'),\n",
    "              'FCT':('1x6A8fRQXzrdhzOV2UZTxzqhFfA-pt7T_sTmMNcQu_VQ','FCT'),\n",
    "              'RDI':('1x6A8fRQXzrdhzOV2UZTxzqhFfA-pt7T_sTmMNcQu_VQ','RDI'), \n",
    "              '20% expenditure decrease':('1x6A8fRQXzrdhzOV2UZTxzqhFfA-pt7T_sTmMNcQu_VQ','20% expenditure decrease'),\n",
    "             '50% expenditure decrease':('1x6A8fRQXzrdhzOV2UZTxzqhFfA-pt7T_sTmMNcQu_VQ','50% expenditure decrease'), \n",
    "             '80% expenditure decrease':('1x6A8fRQXzrdhzOV2UZTxzqhFfA-pt7T_sTmMNcQu_VQ','80% expenditure decrease')}"
   ]
  },
  {
   "cell_type": "markdown",
   "metadata": {},
   "source": [
    "Making different sheets of each sheet on the Google Sheets here:\n",
    "\n"
   ]
  },
  {
   "cell_type": "code",
   "execution_count": 130,
   "metadata": {},
   "outputs": [],
   "source": [
    "from eep153_tools.sheets import read_sheets\n",
    "import numpy as np\n",
    "import pandas as pd\n",
    "\n",
    "def get_clean_sheet(key,sheet=None):\n",
    "\n",
    "    df = read_sheets(key,sheet=sheet)\n",
    "    df.columns = [c.strip() for c in df.columns.tolist()]\n",
    "\n",
    "    df = df.loc[:,~df.columns.duplicated(keep='first')]   \n",
    "\n",
    "    df = df.drop([col for col in df.columns if col.startswith('Unnamed')], axis=1)\n",
    "\n",
    "    df = df.loc[~df.index.duplicated(), :]\n",
    "\n",
    "    return df\n",
    "\n",
    "# Get expenditures for each level of \n",
    "x = get_clean_sheet(InputFiles['Expenditures'][0],\n",
    "                    sheet=InputFiles['Expenditures'][1])\n",
    "x20 = get_clean_sheet(InputFiles['20% expenditure decrease'][0],\n",
    "                    sheet=InputFiles['20% expenditure decrease'][1])\n",
    "x50 = get_clean_sheet(InputFiles['50% expenditure decrease'][0],\n",
    "                    sheet=InputFiles['50% expenditure decrease'][1])\n",
    "x80 = get_clean_sheet(InputFiles['80% expenditure decrease'][0],\n",
    "                    sheet=InputFiles['80% expenditure decrease'][1])\n",
    "\n",
    "if 'm' not in x.columns:\n",
    "    x['m'] = 1\n",
    "\n",
    "x = x.set_index(['i','t','m'])\n",
    "x.columns.name = 'j'\n",
    "\n",
    "x = x.apply(lambda x: pd.to_numeric(x,errors='coerce'))\n",
    "x = x.replace(0,np.nan)\n",
    "\n",
    "x20 = x20.set_index(['i','t','m'])\n",
    "x20.columns.name = 'j'\n",
    "\n",
    "x20 = x20.apply(lambda x: pd.to_numeric(x,errors='coerce'))\n",
    "x20 = x20.replace(0,np.nan)\n",
    "\n",
    "x50 = x50.set_index(['i','t','m'])\n",
    "x50.columns.name = 'j'\n",
    "\n",
    "x50 = x50.apply(lambda x: pd.to_numeric(x,errors='coerce'))\n",
    "x50 = x50.replace(0,np.nan)\n",
    "\n",
    "x80 = x80.set_index(['i','t','m'])\n",
    "x80.columns.name = 'j'\n",
    "\n",
    "x80 = x.apply(lambda x: pd.to_numeric(x,errors='coerce'))\n",
    "x80 = x.replace(0,np.nan)\n",
    "\n",
    "\n",
    "# Get HH characteristics...\n",
    "z = get_clean_sheet(InputFiles['HH Characteristics'][0],\n",
    "                    sheet=InputFiles['HH Characteristics'][1])\n",
    "\n",
    "if 'm' not in z.columns:\n",
    "    z['m'] = 1\n",
    "\n",
    "z = z.set_index(['i','t','m'])\n",
    "z.columns.name = 'k'\n",
    "\n",
    "z = z.apply(lambda x: pd.to_numeric(x,errors='coerce'))\n",
    "\n",
    "# Get prices\n",
    "p = get_clean_sheet(InputFiles['Prices'][0],\n",
    "                    sheet=InputFiles['Prices'][1])\n",
    "\n",
    "if 'm' not in p.columns:  # Supply \"market\" indicator if missing\n",
    "    p['m'] = 1\n",
    "\n",
    "p = p.set_index(['t','m'])\n",
    "p.columns.name = 'j'\n",
    "\n",
    "p = p.apply(lambda x: pd.to_numeric(x,errors='coerce'))\n",
    "p = p.replace(0,np.nan)\n",
    "\n",
    "fct = get_clean_sheet(InputFiles['FCT'][0],\n",
    "                    sheet=InputFiles['FCT'][1])\n",
    "\n",
    "\n",
    "fct = fct.set_index('j')\n",
    "fct.columns.name = 'n'\n",
    "\n",
    "fct = fct.apply(lambda x: pd.to_numeric(x,errors='coerce'))\n",
    "\n",
    "rdi = get_clean_sheet(InputFiles['RDI'][0],\n",
    "                    sheet=InputFiles['RDI'][1])\n",
    "rdi = rdi.set_index('n')\n",
    "rdi.columns.name = 'k'"
   ]
  },
  {
   "cell_type": "markdown",
   "metadata": {},
   "source": [
    "## Step 2: Estimate Demand System\n",
    "\n"
   ]
  },
  {
   "cell_type": "markdown",
   "metadata": {},
   "source": [
    "Here, use data on log *expenditures* and household characteristics to\n",
    "create a CFEDemand `Regression` result for control result for now.\n"
   ]
  },
  {
   "cell_type": "code",
   "execution_count": 131,
   "metadata": {},
   "outputs": [],
   "source": [
    "import cfe\n",
    "\n",
    "result_og = cfe.Regression(y=np.log(x.stack()),d=z)\n",
    "result_og.to_pickle('./foo.pickle')"
   ]
  },
  {
   "cell_type": "markdown",
   "metadata": {},
   "source": [
    "## Step 3: Infer quantities\n",
    "\n"
   ]
  },
  {
   "cell_type": "markdown",
   "metadata": {},
   "source": [
    "Next, we divide predicted expenditures by prices to get\n",
    "quantities (in kilograms) we can map into the  FCT.\n",
    "\n"
   ]
  },
  {
   "cell_type": "code",
   "execution_count": 132,
   "metadata": {},
   "outputs": [],
   "source": [
    "import cfe\n",
    "\n",
    "result_og = cfe.read_pickle('foo.pickle')  # Get persistent result saved above...\n",
    "\n",
    "xhat_og = result_og.predicted_expenditures()\n",
    "\n",
    "# Expenditures divided by prices/kg gives quantities in kgs...\n",
    "qhat_og = (xhat_og.unstack('j')/p).dropna(how='all')\n",
    "\n",
    "# Drop missing columns\n",
    "qhat_og = qhat_og.loc[:,qhat_og.count()>0]"
   ]
  },
  {
   "cell_type": "markdown",
   "metadata": {},
   "source": [
    "## Step 4: Map predicted quantities into nutrients\n",
    "\n"
   ]
  },
  {
   "cell_type": "markdown",
   "metadata": {},
   "source": [
    "Before this will work, need columns of qhat to match columns of fct.\n",
    "\n"
   ]
  },
  {
   "cell_type": "code",
   "execution_count": 133,
   "metadata": {},
   "outputs": [],
   "source": [
    "use = fct.index.intersection(qhat_og.columns)\n",
    "\n",
    "\n",
    "nutrients = qhat_og[use]@fct.loc[use,:]\n",
    "# NB: Nutrients are for past /week/ for entire household. (Depends on dataset)"
   ]
  },
  {
   "cell_type": "markdown",
   "metadata": {},
   "source": [
    "## Household Nutritional Adequacy\n",
    "\n"
   ]
  },
  {
   "cell_type": "markdown",
   "metadata": {},
   "source": [
    "Our data on demand and nutrients is at the *household* level; we\n",
    "   can&rsquo;t directly compare household level nutrition with individual\n",
    "   level requirements.  What we **can** do is add up minimum individual\n",
    "   requirements, and see whether household total exceed these.  This\n",
    "   isn&rsquo;t a guarantee that all individuals have adequate nutrition\n",
    "   (since the way food is allocated in the household might be quite\n",
    "   unequal, or unrelated to individual requirements), but it is\n",
    "   *necessary* if all individuals are to have adequate nutrition.\n",
    "\n",
    "For each household, we know the numbers of people in different age-sex categories.  We can match these up with data from an RDI (Recommended Dietary Intakes), then sum over different types.\n",
    "\n"
   ]
  },
  {
   "cell_type": "code",
   "execution_count": 134,
   "metadata": {},
   "outputs": [],
   "source": [
    "z = z[rdi.columns.tolist()]\n",
    "\n",
    "hh_rdi_og = z@rdi.T\n",
    "\n",
    "# Uganda RDI is per week, so make this a recommended WEEKLY intake:\n",
    "hh_rwi_og = hh_rdi_og*7"
   ]
  },
  {
   "cell_type": "markdown",
   "metadata": {},
   "source": [
    "Now, what proportion of `hh_rwi` do households consume?\n",
    "\n"
   ]
  },
  {
   "cell_type": "code",
   "execution_count": 135,
   "metadata": {},
   "outputs": [],
   "source": [
    "# Match up nutrient names\n",
    "use_nutrients = nutrients.columns.intersection(hh_rwi_og.columns)\n",
    "\n",
    "nutrient_ratio = (nutrients[use_nutrients].fillna(0)/hh_rwi_og[use_nutrients]).dropna()"
   ]
  },
  {
   "cell_type": "markdown",
   "metadata": {},
   "source": [
    "Graph ratios of adequacy for protein and carbohydrates:\n",
    "\n"
   ]
  },
  {
   "cell_type": "code",
   "execution_count": 136,
   "metadata": {},
   "outputs": [
    {
     "data": {
      "text/plain": [
       "<Axes: >"
      ]
     },
     "execution_count": 136,
     "metadata": {},
     "output_type": "execute_result"
    },
    {
     "data": {
      "image/png": "[encoded data removed]",
      "text/plain": [
       "<Figure size 640x480 with 1 Axes>"
      ]
     },
     "metadata": {},
     "output_type": "display_data"
    }
   ],
   "source": [
    "%matplotlib inline\n",
    "nutrient_ratio['Protein'].hist(bins=30)"
   ]
  },
  {
   "cell_type": "markdown",
   "metadata": {},
   "source": [
    "Below is the percentage of households that fall under the recommended intake of protein:"
   ]
  },
  {
   "cell_type": "code",
   "execution_count": 137,
   "metadata": {},
   "outputs": [
    {
     "data": {
      "text/plain": [
       "0.08466119427007887"
      ]
     },
     "execution_count": 137,
     "metadata": {},
     "output_type": "execute_result"
    }
   ],
   "source": [
    "((nutrient_ratio['Protein']) < 1).mean()"
   ]
  },
  {
   "cell_type": "code",
   "execution_count": 138,
   "metadata": {},
   "outputs": [
    {
     "data": {
      "text/plain": [
       "<Axes: >"
      ]
     },
     "execution_count": 138,
     "metadata": {},
     "output_type": "execute_result"
    },
    {
     "data": {
      "image/png": "[encoded data removed]",
      "text/plain": [
       "<Figure size 640x480 with 1 Axes>"
      ]
     },
     "metadata": {},
     "output_type": "display_data"
    }
   ],
   "source": [
    "%matplotlib inline\n",
    "nutrient_ratio['Carbohydrate'].hist(bins=30)"
   ]
  },
  {
   "cell_type": "code",
   "execution_count": 139,
   "metadata": {},
   "outputs": [
    {
     "data": {
      "text/plain": [
       "0.08305166586190246"
      ]
     },
     "execution_count": 139,
     "metadata": {},
     "output_type": "execute_result"
    }
   ],
   "source": [
    "((nutrient_ratio['Carbohydrate']) < 1).mean()"
   ]
  },
  {
   "cell_type": "markdown",
   "metadata": {},
   "source": [
    "Repeat Steps 2-4 for 20%, 50%, and 80% reductions in household expenditures on products:"
   ]
  },
  {
   "cell_type": "code",
   "execution_count": 140,
   "metadata": {},
   "outputs": [],
   "source": [
    "# 20% reduction in household expenditures on products:\n",
    "import cfe\n",
    "\n",
    "result_20 = cfe.Regression(y=np.log(x20.stack()),d=z)\n",
    "result_20.to_pickle('./foo.pickle')\n",
    "\n",
    "result_20 = cfe.read_pickle('foo.pickle')  # Get persistent result saved above...\n",
    "\n",
    "xhat_20 = result_20.predicted_expenditures()\n",
    "\n",
    "# Expenditures divided by prices/kg gives quantities in kgs...\n",
    "qhat_20 = (xhat_20.unstack('j')/p).dropna(how='all')\n",
    "\n",
    "# Drop missing columns\n",
    "qhat_20 = qhat_20.loc[:,qhat_20.count()>0]\n",
    "\n",
    "use = fct.index.intersection(qhat_20.columns)\n",
    "\n",
    "nutrients = qhat_20[use]@fct.loc[use,:]\n",
    "# NB: Nutrients are for past /week/ for entire household. (Depends on dataset)\n",
    "\n",
    "z = z[rdi.columns.tolist()]\n",
    "\n",
    "hh_rdi_20 = z@rdi.T\n",
    "\n",
    "# Uganda RDI is per week, so make this a recommended WEEKLY intake:\n",
    "hh_rwi_20 = hh_rdi_20*7\n",
    "\n",
    "# Match up nutrient names\n",
    "use_nutrients_20 = nutrients.columns.intersection(hh_rwi_20.columns)\n",
    "\n",
    "nutrient_ratio_20 = (nutrients[use_nutrients_20].fillna(0)/hh_rwi_20[use_nutrients_20]).dropna()"
   ]
  },
  {
   "cell_type": "code",
   "execution_count": 141,
   "metadata": {},
   "outputs": [
    {
     "data": {
      "text/plain": [
       "<Axes: >"
      ]
     },
     "execution_count": 141,
     "metadata": {},
     "output_type": "execute_result"
    },
    {
     "data": {
      "image/png": "[encoded data removed]",
      "text/plain": [
       "<Figure size 640x480 with 1 Axes>"
      ]
     },
     "metadata": {},
     "output_type": "display_data"
    }
   ],
   "source": [
    "%matplotlib inline\n",
    "nutrient_ratio_20['Protein'].hist(bins=30)"
   ]
  },
  {
   "cell_type": "code",
   "execution_count": 142,
   "metadata": {},
   "outputs": [
    {
     "data": {
      "text/plain": [
       "0.08615728900255755"
      ]
     },
     "execution_count": 142,
     "metadata": {},
     "output_type": "execute_result"
    }
   ],
   "source": [
    "((nutrient_ratio_20['Protein']) < 1).mean()"
   ]
  },
  {
   "cell_type": "code",
   "execution_count": 143,
   "metadata": {},
   "outputs": [
    {
     "data": {
      "text/plain": [
       "<Axes: >"
      ]
     },
     "execution_count": 143,
     "metadata": {},
     "output_type": "execute_result"
    },
    {
     "data": {
      "image/png": "[encoded data removed]",
      "text/plain": [
       "<Figure size 640x480 with 1 Axes>"
      ]
     },
     "metadata": {},
     "output_type": "display_data"
    }
   ],
   "source": [
    "%matplotlib inline\n",
    "nutrient_ratio_20['Carbohydrate'].hist(bins=30)"
   ]
  },
  {
   "cell_type": "code",
   "execution_count": 144,
   "metadata": {},
   "outputs": [
    {
     "data": {
      "text/plain": [
       "0.0828005115089514"
      ]
     },
     "execution_count": 144,
     "metadata": {},
     "output_type": "execute_result"
    }
   ],
   "source": [
    "((nutrient_ratio_20['Carbohydrate']) < 1).mean()"
   ]
  },
  {
   "cell_type": "code",
   "execution_count": 145,
   "metadata": {},
   "outputs": [],
   "source": [
    "# 50% reduction in household expenditures on products:\n",
    "import cfe\n",
    "\n",
    "result_50 = cfe.Regression(y=np.log(x50.stack()),d=z)\n",
    "result_50.to_pickle('./foo.pickle')\n",
    "\n",
    "result_50 = cfe.read_pickle('foo.pickle')  # Get persistent result saved above...\n",
    "\n",
    "xhat_50 = result_50.predicted_expenditures()\n",
    "\n",
    "# Expenditures divided by prices/kg gives quantities in kgs...\n",
    "qhat_50 = (xhat_50.unstack('j')/p).dropna(how='all')\n",
    "\n",
    "# Drop missing columns\n",
    "qhat_50 = qhat_50.loc[:,qhat_50.count()>0]\n",
    "\n",
    "use = fct.index.intersection(qhat_50.columns)\n",
    "\n",
    "nutrients = qhat_50[use]@fct.loc[use,:]\n",
    "# NB: Nutrients are for past /week/ for entire household. (Depends on dataset)\n",
    "\n",
    "z = z[rdi.columns.tolist()]\n",
    "\n",
    "hh_rdi_50 = z@rdi.T\n",
    "\n",
    "# Uganda RDI is per week, so make this a recommended WEEKLY intake:\n",
    "hh_rwi_50 = hh_rdi_50*7\n",
    "\n",
    "# Match up nutrient names\n",
    "use_nutrients_50 = nutrients.columns.intersection(hh_rwi_50.columns)\n",
    "\n",
    "nutrient_ratio_50 = (nutrients[use_nutrients_50].fillna(0)/hh_rwi_50[use_nutrients_50]).dropna()"
   ]
  },
  {
   "cell_type": "code",
   "execution_count": 146,
   "metadata": {},
   "outputs": [
    {
     "data": {
      "text/plain": [
       "<Axes: >"
      ]
     },
     "execution_count": 146,
     "metadata": {},
     "output_type": "execute_result"
    },
    {
     "data": {
      "image/png": "[encoded data removed]",
      "text/plain": [
       "<Figure size 640x480 with 1 Axes>"
      ]
     },
     "metadata": {},
     "output_type": "display_data"
    }
   ],
   "source": [
    "%matplotlib inline\n",
    "nutrient_ratio_50['Protein'].hist(bins=30)"
   ]
  },
  {
   "cell_type": "code",
   "execution_count": 147,
   "metadata": {},
   "outputs": [
    {
     "data": {
      "text/plain": [
       "0.08615728900255755"
      ]
     },
     "execution_count": 147,
     "metadata": {},
     "output_type": "execute_result"
    }
   ],
   "source": [
    "((nutrient_ratio_50['Protein']) < 1).mean()"
   ]
  },
  {
   "cell_type": "code",
   "execution_count": 148,
   "metadata": {},
   "outputs": [
    {
     "data": {
      "text/plain": [
       "<Axes: >"
      ]
     },
     "execution_count": 148,
     "metadata": {},
     "output_type": "execute_result"
    },
    {
     "data": {
      "image/png": "[encoded data removed]",
      "text/plain": [
       "<Figure size 640x480 with 1 Axes>"
      ]
     },
     "metadata": {},
     "output_type": "display_data"
    }
   ],
   "source": [
    "%matplotlib inline\n",
    "nutrient_ratio_50['Carbohydrate'].hist(bins=30)"
   ]
  },
  {
   "cell_type": "code",
   "execution_count": 149,
   "metadata": {},
   "outputs": [
    {
     "data": {
      "text/plain": [
       "0.0828005115089514"
      ]
     },
     "execution_count": 149,
     "metadata": {},
     "output_type": "execute_result"
    }
   ],
   "source": [
    "((nutrient_ratio_50['Carbohydrate']) < 1).mean()"
   ]
  },
  {
   "cell_type": "code",
   "execution_count": 150,
   "metadata": {},
   "outputs": [],
   "source": [
    "# 80% reduction in household expenditures on products:\n",
    "import cfe\n",
    "\n",
    "result_80 = cfe.Regression(y=np.log(x80.stack()),d=z)\n",
    "result_80.to_pickle('./foo.pickle')\n",
    "\n",
    "result_80 = cfe.read_pickle('foo.pickle')  # Get persistent result saved above...\n",
    "\n",
    "xhat_80 = result_80.predicted_expenditures()\n",
    "\n",
    "# Expenditures divided by prices/kg gives quantities in kgs...\n",
    "qhat_80 = (xhat_80.unstack('j')/p).dropna(how='all')\n",
    "\n",
    "# Drop missing columns\n",
    "qhat_80 = qhat_80.loc[:,qhat_80.count()>0]\n",
    "\n",
    "use = fct.index.intersection(qhat_80.columns)\n",
    "\n",
    "nutrients = qhat_80[use]@fct.loc[use,:]\n",
    "# NB: Nutrients are for past /week/ for entire household. (Depends on dataset)\n",
    "\n",
    "z = z[rdi.columns.tolist()]\n",
    "\n",
    "hh_rdi_80 = z@rdi.T\n",
    "\n",
    "# Uganda RDI is per week, so make this a recommended WEEKLY intake:\n",
    "hh_rwi_80 = hh_rdi_80*7\n",
    "\n",
    "# Match up nutrient names\n",
    "use_nutrients_80 = nutrients.columns.intersection(hh_rwi_80.columns)\n",
    "\n",
    "nutrient_ratio_80 = (nutrients[use_nutrients_80].fillna(0)/hh_rwi_80[use_nutrients_80]).dropna()"
   ]
  },
  {
   "cell_type": "code",
   "execution_count": 151,
   "metadata": {},
   "outputs": [
    {
     "data": {
      "text/plain": [
       "<Axes: >"
      ]
     },
     "execution_count": 151,
     "metadata": {},
     "output_type": "execute_result"
    },
    {
     "data": {
      "image/png": "[encoded data removed]",
      "text/plain": [
       "<Figure size 640x480 with 1 Axes>"
      ]
     },
     "metadata": {},
     "output_type": "display_data"
    }
   ],
   "source": [
    "%matplotlib inline\n",
    "nutrient_ratio_80['Protein'].hist(bins=30)"
   ]
  },
  {
   "cell_type": "code",
   "execution_count": 152,
   "metadata": {},
   "outputs": [
    {
     "data": {
      "text/plain": [
       "0.08466119427007887"
      ]
     },
     "execution_count": 152,
     "metadata": {},
     "output_type": "execute_result"
    }
   ],
   "source": [
    "((nutrient_ratio_80['Protein']) < 1).mean()"
   ]
  },
  {
   "cell_type": "code",
   "execution_count": 153,
   "metadata": {},
   "outputs": [
    {
     "data": {
      "text/plain": [
       "<Axes: >"
      ]
     },
     "execution_count": 153,
     "metadata": {},
     "output_type": "execute_result"
    },
    {
     "data": {
      "image/png": "[encoded data removed]",
      "text/plain": [
       "<Figure size 640x480 with 1 Axes>"
      ]
     },
     "metadata": {},
     "output_type": "display_data"
    }
   ],
   "source": [
    "%matplotlib inline\n",
    "nutrient_ratio_80['Carbohydrate'].hist(bins=30)"
   ]
  },
  {
   "cell_type": "code",
   "execution_count": 127,
   "metadata": {},
   "outputs": [
    {
     "data": {
      "text/plain": [
       "0.08305166586190246"
      ]
     },
     "execution_count": 127,
     "metadata": {},
     "output_type": "execute_result"
    }
   ],
   "source": [
    "((nutrient_ratio_80['Carbohydrate']) < 1).mean()"
   ]
  }
 ],
 "metadata": {
  "kernelspec": {
   "display_name": "Python 3 (ipykernel)",
   "language": "python",
   "name": "python3"
  },
  "language_info": {
   "codemirror_mode": {
    "name": "ipython",
    "version": 3
   },
   "file_extension": ".py",
   "mimetype": "text/x-python",
   "name": "python",
   "nbconvert_exporter": "python",
   "pygments_lexer": "ipython3",
   "version": "3.9.15"
  },
  "org": null
 },
 "nbformat": 4,
 "nbformat_minor": 4
}
